{
 "cells": [
  {
   "cell_type": "markdown",
   "metadata": {},
   "source": [
    "# **Finding Lane Lines on the Road** \n",
    "***\n",
    "In this project, you will use the tools you learned about in the lesson to identify lane lines on the road.  You can develop your pipeline on a series of individual images, and later apply the result to a video stream (really just a series of images). Check out the video clip \"raw-lines-example.mp4\" (also contained in this repository) to see what the output should look like after using the helper functions below. \n",
    "\n",
    "Once you have a result that looks roughly like \"raw-lines-example.mp4\", you'll need to get creative and try to average and/or extrapolate the line segments you've detected to map out the full extent of the lane lines.  You can see an example of the result you're going for in the video \"P1_example.mp4\".  Ultimately, you would like to draw just one line for the left side of the lane, and one for the right.\n",
    "\n",
    "---\n",
    "Let's have a look at our first image called 'test_images/solidWhiteRight.jpg'.  Run the 2 cells below (hit Shift-Enter or the \"play\" button above) to display the image.\n",
    "\n",
    "**Note** If, at any point, you encounter frozen display windows or other confounding issues, you can always start again with a clean slate by going to the \"Kernel\" menu above and selecting \"Restart & Clear Output\".\n",
    "\n",
    "---"
   ]
  },
  {
   "cell_type": "markdown",
   "metadata": {},
   "source": [
    "**The tools you have are color selection, region of interest selection, grayscaling, Gaussian smoothing, Canny Edge Detection and Hough Tranform line detection.  You  are also free to explore and try other techniques that were not presented in the lesson.  Your goal is piece together a pipeline to detect the line segments in the image, then average/extrapolate them and draw them onto the image for display (as below).  Once you have a working pipeline, try it out on the video stream below.**\n",
    "\n",
    "---\n",
    "\n",
    "<figure>\n",
    " <img src=\"line-segments-example.jpg\" width=\"380\" alt=\"Combined Image\" />\n",
    " <figcaption>\n",
    " <p></p> \n",
    " <p style=\"text-align: center;\"> Your output should look something like this (above) after detecting line segments using the helper functions below </p> \n",
    " </figcaption>\n",
    "</figure>\n",
    " <p></p> \n",
    "<figure>\n",
    " <img src=\"laneLines_thirdPass.jpg\" width=\"380\" alt=\"Combined Image\" />\n",
    " <figcaption>\n",
    " <p></p> \n",
    " <p style=\"text-align: center;\"> Your goal is to connect/average/extrapolate line segments to get output like this</p> \n",
    " </figcaption>\n",
    "</figure>"
   ]
  },
  {
   "cell_type": "code",
   "execution_count": null,
   "metadata": {
    "collapsed": false
   },
   "outputs": [],
   "source": [
    "#importing some useful packages\n",
    "import matplotlib.pyplot as plt\n",
    "import matplotlib.image as mpimg\n",
    "import numpy as np\n",
    "import cv2\n",
    "%matplotlib inline"
   ]
  },
  {
   "cell_type": "code",
   "execution_count": null,
   "metadata": {
    "collapsed": false
   },
   "outputs": [],
   "source": [
    "#reading in an image\n",
    "image = mpimg.imread('test_images/solidWhiteRight.jpg')\n",
    "#printing out some stats and plotting\n",
    "print('This image is:', type(image), 'with dimesions:', image.shape)\n",
    "plt.imshow(image)  #call as plt.imshow(gray, cmap='gray') to show a grayscaled image"
   ]
  },
  {
   "cell_type": "markdown",
   "metadata": {},
   "source": [
    "**Some OpenCV functions (beyond those introduced in the lesson) that might be useful for this project are:**\n",
    "\n",
    "`cv2.inRange()` for color selection  \n",
    "`cv2.fillPoly()` for regions selection  \n",
    "`cv2.line()` to draw lines on an image given endpoints  \n",
    "`cv2.addWeighted()` to coadd / overlay two images\n",
    "`cv2.cvtColor()` to grayscale or change color\n",
    "`cv2.imwrite()` to output images to file  \n",
    "`cv2.bitwise_and()` to apply a mask to an image\n",
    "\n",
    "**Check out the OpenCV documentation to learn about these and discover even more awesome functionality!**"
   ]
  },
  {
   "cell_type": "markdown",
   "metadata": {},
   "source": [
    "Below are some helper functions to help get you started. They should look familiar from the lesson!"
   ]
  },
  {
   "cell_type": "code",
   "execution_count": null,
   "metadata": {
    "collapsed": false
   },
   "outputs": [],
   "source": [
    "import math\n",
    "\n",
    "def grayscale(img):\n",
    "    \"\"\"Applies the Grayscale transform\n",
    "    This will return an image with only one color channel\n",
    "    but NOTE: to see the returned image as grayscale\n",
    "    you should call plt.imshow(gray, cmap='gray')\"\"\"\n",
    "    return cv2.cvtColor(img, cv2.COLOR_BGR2GRAY)\n",
    "    \n",
    "def canny(img, low_threshold, high_threshold):\n",
    "    \"\"\"Applies the Canny transform\"\"\"\n",
    "    return cv2.Canny(img, low_threshold, high_threshold)\n",
    "\n",
    "def gaussian_blur(img, kernel_size):\n",
    "    \"\"\"Applies a Gaussian Noise kernel\"\"\"\n",
    "    return cv2.GaussianBlur(img, (kernel_size, kernel_size), 0)\n",
    "\n",
    "def region_of_interest(img, vertices):\n",
    "    \"\"\"\n",
    "    Applies an image mask.\n",
    "    \n",
    "    Only keeps the region of the image defined by the polygon\n",
    "    formed from `vertices`. The rest of the image is set to black.\n",
    "    \"\"\"\n",
    "    #defining a blank mask to start with\n",
    "    mask = np.zeros_like(img)   \n",
    "    \n",
    "    #defining a 3 channel or 1 channel color to fill the mask with depending on the input image\n",
    "    if len(img.shape) > 2:\n",
    "        channel_count = img.shape[2]  # i.e. 3 or 4 depending on your image\n",
    "        ignore_mask_color = (255,) * channel_count\n",
    "    else:\n",
    "        ignore_mask_color = 255\n",
    "        \n",
    "    #filling pixels inside the polygon defined by \"vertices\" with the fill color    \n",
    "    cv2.fillPoly(mask, vertices, ignore_mask_color)\n",
    "    \n",
    "    #returning the image only where mask pixels are nonzero\n",
    "    masked_image = cv2.bitwise_and(img, mask)\n",
    "    return masked_image\n",
    "\n",
    "\n",
    "def draw_lines(img, lines, color=[255, 0, 0], thickness=2):\n",
    "    \"\"\"\n",
    "    NOTE: this is the function you might want to use as a starting point once you want to \n",
    "    average/extrapolate the line segments you detect to map out the full\n",
    "    extent of the lane (going from the result shown in raw-lines-example.mp4\n",
    "    to that shown in P1_example.mp4).  \n",
    "    \n",
    "    Think about things like separating line segments by their \n",
    "    slope ((y2-y1)/(x2-x1)) to decide which segments are part of the left\n",
    "    line vs. the right line.  Then, you can average the position of each of \n",
    "    the lines and extrapolate to the top and bottom of the lane.\n",
    "    \n",
    "    This function draws `lines` with `color` and `thickness`.    \n",
    "    Lines are drawn on the image inplace (mutates the image).\n",
    "    If you want to make the lines semi-transparent, think about combining\n",
    "    this function with the weighted_img() function below\n",
    "    \"\"\"\n",
    "    for line in lines:\n",
    "        for x1,y1,x2,y2 in line:\n",
    "            cv2.line(img, (x1, y1), (x2, y2), color, thickness)\n",
    "\n",
    "def hough_lines(img, rho, theta, threshold, min_line_len, max_line_gap):\n",
    "    \"\"\"\n",
    "    `img` should be the output of a Canny transform.\n",
    "        \n",
    "    Returns an image with hough lines drawn.\n",
    "    \"\"\"\n",
    "    lines = cv2.HoughLinesP(img, rho, theta, threshold, np.array([]), minLineLength=min_line_len, maxLineGap=max_line_gap)\n",
    "    line_img = np.zeros((*img.shape, 3), dtype=np.uint8)\n",
    "    draw_lines(line_img, lines)\n",
    "    return line_img\n",
    "\n",
    "# Python 3 has support for cool math symbols.\n",
    "\n",
    "def weighted_img(img, initial_img, α=0.8, β=1., λ=0.):\n",
    "    \"\"\"\n",
    "    `img` is the output of the hough_lines(), An image with lines drawn on it.\n",
    "    Should be a blank image (all black) with lines drawn on it.\n",
    "    \n",
    "    `initial_img` should be the image before any processing.\n",
    "    \n",
    "    The result image is computed as follows:\n",
    "    \n",
    "    initial_img * α + img * β + λ\n",
    "    NOTE: initial_img and img must be the same shape!\n",
    "    \"\"\"\n",
    "    return cv2.addWeighted(initial_img, α, img, β, λ)\n",
    "\n",
    "def color_select(image,threshold_r,threshold_g,threshold_b):\n",
    "# Use a \"bitwise OR\" to identify pixels below the threshold\n",
    "  thresholds = (image[:,:,0] < threshold_r) \\\n",
    "            | (image[:,:,1] < threshold_g) \\\n",
    "            | (image[:,:,2] < threshold_b)\n",
    "  filtered = image.copy()\n",
    "  filtered[thresholds] = [0,0,0]\n",
    "  return filtered\n",
    "\n",
    "\n"
   ]
  },
  {
   "cell_type": "markdown",
   "metadata": {},
   "source": [
    "## Test on Images\n",
    "\n",
    "Now you should build your pipeline to work on the images in the directory \"test_images\"  \n",
    "**You should make sure your pipeline works well on these images before you try the videos.**"
   ]
  },
  {
   "cell_type": "code",
   "execution_count": null,
   "metadata": {
    "collapsed": false
   },
   "outputs": [],
   "source": [
    "#filter colors exeeding a statistical criteria\n",
    "def filterImage(image):\n",
    "  meancolors = np.mean(image,axis=(0,1))\n",
    "  sdevcolors = np.std(image,axis=(0,1))\n",
    "#threshold is mean + 1.5 std\n",
    "  thresholds = meancolors+sdevcolors*1.5 \n",
    "#to pass yellow blue threshold must be much lower\n",
    "  filtered_image = color_select(image,thresholds[0],thresholds[1],thresholds[2]*0.4)\n",
    "  return filtered_image\n",
    "    \n",
    "#average similar lines in a line list identified by rho and theta by comparing the theta of the lines.\n",
    "def average_lines(lines, delta_theta):\n",
    "  av2_lines=[]\n",
    "  for i in range(lines.shape[0]):\n",
    "    j=0\n",
    "    for rho,theta in lines[i]:\n",
    "      if theta == 0 and rho == 0:\n",
    "        continue\n",
    "    \n",
    "      av_lines=[]\n",
    "      av_lines.append((rho, theta))    \n",
    "      for j in range(lines.shape[0]-1, i, -1):\n",
    "        for rho2,theta2 in lines[j]:\n",
    "#         angle is similar\n",
    "          if theta2 != 0 and rho2 != 0 and abs(theta2-theta) <= delta_theta:\n",
    "            av_lines.append((rho2, theta2))  \n",
    "            lines[j] = (0.0)\n",
    "\n",
    "      av = np.mean(av_lines,axis=0)       \n",
    "      av2_lines.append((av[0],av[1]))\n",
    "#      print(\"averaged\",av)\n",
    "  return av2_lines\n",
    "\n",
    "##add to a line list identified by rho and theta the ccordinates of the cut of the bottom line or the righ border\n",
    "def extend_lines_to_bottom(lines, maxY,maxX): \n",
    "  lines2 = []\n",
    "  for point in lines:\n",
    "    rho = point[0]\n",
    "    theta = point[1]\n",
    "    \n",
    "    #filter strange angles\n",
    "#    if theta > np.pi * 0.8 and theta < np.pi * 0.2:\n",
    "#      continue\n",
    "    \n",
    "    #x to the left, theta is angle between y axis at the top left corner and the line\n",
    "    #y at bottom is image.shape[0]\n",
    "    a = np.cos(theta)\n",
    "    b = np.sin(theta)\n",
    "    \n",
    "    #avoid div by zero\n",
    "    if a == 0: \n",
    "      a = 0.0001\n",
    "    if b == 0:\n",
    "      b = 0.0001       \n",
    "        \n",
    "    x0 = a*rho\n",
    "    y0 = b*rho\n",
    "    \n",
    "    #calculate length auf line at border of image\n",
    "    #hit at left border 0 = x0 + lx*(-b) -> lx  = x0/b\n",
    "    lx = int(x0 / (b))\n",
    "    #hit at top 0 = y0 + ly*(a) -> lyx  = -y0/a\n",
    "    ly = int(y0 / (-a))\n",
    "    #hit at bottom image.shape[0] =y0 + lmaxy*(a) -> lmaxy = (image.shape[0] - y0)/a\n",
    "    lmaxy = (maxY - y0)/a\n",
    "    #hit at right border image.shape[1] =x0 + lx*(-b) -> lmaxx = (image.shape[1] - x0)/(-b)\n",
    "    lmaxx = (maxX - x0)/(-b)\n",
    "    \n",
    "    #x at bottom line\n",
    "    yl = int(y0 + lx*(a))\n",
    "    xb = int(x0 + lmaxy*(-b))\n",
    "    yr = int(y0 + lmaxx*(a))\n",
    "\n",
    "    #hit bottlom line\n",
    "    if xb >= 0 and xb <= maxX:\n",
    "      x2 = xb\n",
    "      y2 = maxY\n",
    "      #store rho, theta and bottom ccordinates\n",
    "#    elif xb < 0 :\n",
    "#      y2 = yl\n",
    "#      x2 = 0\n",
    "#    elif xb > maxX :\n",
    "#      y2 = yr\n",
    "#      x2 = maxX\n",
    "\n",
    "#      print(\"theta:\",theta*180/np.pi,\" x0:\",x0,\" y0:\",y0,\" x2:\",x2,\" y2:\",y2)\n",
    "      lines2.append((rho,theta,x2,y2))\n",
    "        \n",
    "  return lines2\n",
    "\n",
    "#find the cut point of a pair of lines and extend the two lines to the point\n",
    "def extend_lines_to_cut_point(lines, limitY):\n",
    "  lines2=[]\n",
    "  ci = 0\n",
    "#loop the lines\n",
    "  for i in range(len(lines)):\n",
    "    no_cut = True\n",
    "    rho1,theta1,xb1,yb1 = lines[i]       \n",
    "\n",
    "    a1 = np.cos(theta1)\n",
    "    b1 = np.sin(theta1)\n",
    "    x01 = a1*rho1\n",
    "    y01 = b1*rho1\n",
    "\n",
    "    #avoid div by zero\n",
    "    if a1 == 0: \n",
    "      a1 = 0.0001\n",
    "    if b1 == 0:\n",
    "      b1 = 0.0001       \n",
    "    \n",
    "    j = i +1\n",
    "#second loop for otherlines lines to find crossings\n",
    "    for j in range(i+1,len(lines)):    \n",
    "#      print(\"cut between {0} and {1}\".format(i,j))\n",
    "\n",
    "      rho2,theta2,xb2,yb2 = lines[j]       \n",
    "      #rho,theta = av\n",
    "      a2 = np.cos(theta2)\n",
    "      b2 = np.sin(theta2)\n",
    "      x02 = a2*rho2\n",
    "      y02 = b2*rho2     \n",
    "\n",
    "#cut of both lines, get the formular\n",
    "#xc and yc are queal -> y01 + lc1*(a1) = y02 + lc2*(a2) and x01 + lx1*(-b1) = x02 + lx2*(-b2)\n",
    "#lc1 = (y02 - y01)/a1 + lc2* a2/a1 \n",
    "#lc1 = (x02 - x01)/(-b1) + lc2* b2/b1 \n",
    "#lc2 = ((y02 - y01)/a1 + (x02 - x01)/(b1)) / (b2/b1 - a2/a1)\n",
    "\n",
    "      lc2 = ((y02 - y01)/a1 + (x02 - x01)/b1) / (b2/b1 - a2/a1)\n",
    "    \n",
    "      xc = x02 + lc2*(-b2)\n",
    "      yc = y02 + lc2*(a2)\n",
    "    \n",
    "      #cut outside of image?\n",
    "#      if xc > image.shape[1] or xc < 0:\n",
    "#        continue\n",
    "    \n",
    "#      if yc > image.shape[0] or yc < 0:\n",
    "#        continue\n",
    "        \n",
    "      xc = int(max(min(xc,10000),0.0001))#void int overflow\n",
    "      yc = int(max(min(yc, 10000),0.0001))\n",
    "      lines2.append([xb1, yb1, xc, yc])  \n",
    "      lines2.append([xb2, yb2, xc, yc])\n",
    "      no_cut = False\n",
    "        \n",
    "    if no_cut and len(lines2) == 0:\n",
    "      #limit the line to a middle area\n",
    "      xc = x01\n",
    "      yc = y01\n",
    "      if y01 <= limitY:\n",
    "#        print(limitY, yc)\n",
    "        lc = (limitY -y01) / a1\n",
    "        xc = int(x01 + lc*(-b1))\n",
    "        yc = int(y01 + lc*(a1))\n",
    "        \n",
    "      lines2.append([xc, yc, xb1, yb1])  \n",
    "        \n",
    "#take only the most left and most right lines for defining area of interest\n",
    "  if len(lines2) > 2:\n",
    "    mostLeftBottomX = np.min(lines2,axis=0)[0]\n",
    "    mostRightBottomX = np.max(lines2,axis=0)[0]\n",
    "#    print(\"xleft:\", mostLeftBottomX, \" xright:\" ,mostRightBottomX)\n",
    "    lines3 = []\n",
    "#copy first most left line    \n",
    "    for line in lines2:\n",
    "      if line[0] == mostLeftBottomX:\n",
    "        lines3.append(line)\n",
    "        break\n",
    "#copy first most right line    \n",
    "    for line in lines2:\n",
    "      if line[0] == mostRightBottomX:\n",
    "        lines3.append(line)\n",
    "        break\n",
    "    lines2 = lines3                      \n",
    "                       \n",
    "  return lines2\n",
    "    "
   ]
  },
  {
   "cell_type": "code",
   "execution_count": null,
   "metadata": {
    "collapsed": false,
    "scrolled": true
   },
   "outputs": [],
   "source": [
    "import os\n",
    "print(os.listdir(\"test_images/\"))\n",
    "\n",
    "#the process chain to draw lane lines on the road\n",
    "def process_colored_image(image):\n",
    "#plt.imshow(image)\n",
    "#plt.show()\n",
    "\n",
    "#white filter\n",
    "#  filtered_image = color_select(image,200,200,200)\n",
    "#yellow color filter\n",
    "#  filtered_image = color_select(image,200,200,120)\n",
    "\n",
    "  filtered_image = filterImage(image)\n",
    "#plt.imshow(filtered_image)\n",
    "#plt.show()\n",
    "\n",
    "  gray = grayscale(filtered_image)\n",
    "#plt.imshow(gray,cmap='gray')\n",
    "#plt.show()\n",
    "\n",
    "# Define a kernel size and apply Gaussian smoothing\n",
    "  kernel_size = 5\n",
    "  blur_gray = gaussian_blur(gray,kernel_size).copy()\n",
    "#plt.imshow(blur_gray,cmap='gray' )\n",
    "#plt.show()\n",
    "\n",
    "# Define our parameters for Canny and apply\n",
    "  low_threshold = 200\n",
    "  high_threshold = 255\n",
    "  edges = canny(blur_gray, low_threshold, high_threshold).copy()\n",
    "#  plt.imshow(edges,cmap='gray' )\n",
    "#  plt.show()\n",
    "\n",
    "# Define the Hough transform parameters\n",
    "# Make a blank the same size as our image to draw on\n",
    "  rho = 1\n",
    "  theta = np.pi/180\n",
    "  threshold = 1\n",
    "  min_line_length = 60\n",
    "  max_line_gap = 40\n",
    "\n",
    "# Run Hough on edge detected image\n",
    "  lines = cv2.HoughLines(edges, rho, theta, min_line_length)\n",
    "\n",
    "  #max difference in angle for similar lines\n",
    "  delta_theta = 0.2\n",
    "  lines_img = np.zeros((*edges.shape, 3), dtype=np.uint8)\n",
    "\n",
    "  lines = average_lines(lines, delta_theta)\n",
    "  lines = extend_lines_to_bottom(lines,lines_img.shape[0], lines_img.shape[1])\n",
    "  lines = extend_lines_to_cut_point(lines,lines_img.shape[0]*0.5)\n",
    "  for line in lines:\n",
    "    cv2.line(lines_img, (line[0], line[1]), (line[2], line[3]), [255,0,0], 15)\n",
    "\n",
    "#  lines_img = hough_lines(edges,rho, theta, threshold, min_line_length, max_line_gap)\n",
    "#  plt.imshow(lines_img,cmap='gray' )\n",
    "#  plt.show()\n",
    "\n",
    "  result = weighted_img(lines_img, image)\n",
    "  return result\n",
    "\n",
    "for item in os.listdir(\"test_images/\"):\n",
    "  #Read in and grayscale the image\n",
    "  print(item)\n",
    "  path_to_image = os.path.join(\"test_images\",item)\n",
    "  image = mpimg.imread(path_to_image)\n",
    "  result = process_colored_image(image)\n",
    "  path_to_result = os.path.join(\"test_images\",\"result_{0}\".format(item))\n",
    "  fig = plt.gcf()\n",
    "  plt.imshow(result)\n",
    "  fig.savefig(path_to_result) \n",
    "  plt.show()\n",
    "\n"
   ]
  },
  {
   "cell_type": "markdown",
   "metadata": {},
   "source": [
    "run your solution on all test_images and make copies into the test_images directory)."
   ]
  },
  {
   "cell_type": "markdown",
   "metadata": {},
   "source": [
    "## Test on Videos\n",
    "\n",
    "You know what's cooler than drawing lanes over images? Drawing lanes over video!\n",
    "\n",
    "We can test our solution on two provided videos:\n",
    "\n",
    "`solidWhiteRight.mp4`\n",
    "\n",
    "`solidYellowLeft.mp4`"
   ]
  },
  {
   "cell_type": "code",
   "execution_count": null,
   "metadata": {
    "collapsed": true
   },
   "outputs": [],
   "source": [
    "# Import everything needed to edit/save/watch video clips\n",
    "from moviepy.editor import VideoFileClip\n",
    "from IPython.display import HTML"
   ]
  },
  {
   "cell_type": "code",
   "execution_count": null,
   "metadata": {
    "collapsed": true
   },
   "outputs": [],
   "source": [
    "def process_image(image):\n",
    "    # NOTE: The output you return should be a color image (3 channel) for processing video below\n",
    "    # TODO: put your pipeline here,\n",
    "    # you should return the final output (image with lines are drawn on lanes)\n",
    "    \n",
    "\n",
    "    return process_colored_image(image)"
   ]
  },
  {
   "cell_type": "markdown",
   "metadata": {},
   "source": [
    "Let's try the one with the solid white lane on the right first ..."
   ]
  },
  {
   "cell_type": "code",
   "execution_count": null,
   "metadata": {
    "collapsed": false,
    "scrolled": false
   },
   "outputs": [],
   "source": [
    "white_output = 'white.mp4'\n",
    "clip1 = VideoFileClip(\"solidWhiteRight.mp4\")\n",
    "white_clip = clip1.fl_image(process_image) #NOTE: this function expects color images!!\n",
    "%time white_clip.write_videofile(white_output, audio=False)"
   ]
  },
  {
   "cell_type": "markdown",
   "metadata": {},
   "source": [
    "Play the video inline, or if you prefer find the video in your filesystem (should be in the same directory) and play it in your video player of choice."
   ]
  },
  {
   "cell_type": "code",
   "execution_count": null,
   "metadata": {
    "collapsed": false,
    "scrolled": false
   },
   "outputs": [],
   "source": [
    "HTML(\"\"\"\n",
    "<video width=\"960\" height=\"540\" controls>\n",
    "  <source src=\"{0}\">\n",
    "</video>\n",
    "\"\"\".format(white_output))"
   ]
  },
  {
   "cell_type": "markdown",
   "metadata": {},
   "source": [
    "**At this point, if you were successful you probably have the Hough line segments drawn onto the road, but what about identifying the full extent of the lane and marking it clearly as in the example video (P1_example.mp4)?  Think about defining a line to run the full length of the visible lane based on the line segments you identified with the Hough Transform.  Modify your draw_lines function accordingly and try re-running your pipeline.**"
   ]
  },
  {
   "cell_type": "markdown",
   "metadata": {},
   "source": [
    "Now for the one with the solid yellow lane on the left. This one's more tricky!"
   ]
  },
  {
   "cell_type": "code",
   "execution_count": null,
   "metadata": {
    "collapsed": false,
    "scrolled": true
   },
   "outputs": [],
   "source": [
    "HTML(\"\"\"\n",
    "<video width=\"960\" height=\"540\" controls>\n",
    "  <source src=\"{0}\">\n",
    "</video>\n",
    "\"\"\".format(\"P1_example.mp4\"))"
   ]
  },
  {
   "cell_type": "code",
   "execution_count": null,
   "metadata": {
    "collapsed": false
   },
   "outputs": [],
   "source": [
    "yellow_output = 'yellow.mp4'\n",
    "clip2 = VideoFileClip('solidYellowLeft.mp4')\n",
    "yellow_clip = clip2.fl_image(process_image)\n",
    "%time yellow_clip.write_videofile(yellow_output, audio=False)"
   ]
  },
  {
   "cell_type": "code",
   "execution_count": null,
   "metadata": {
    "collapsed": false,
    "scrolled": true
   },
   "outputs": [],
   "source": [
    "HTML(\"\"\"\n",
    "<video width=\"960\" height=\"540\" controls>\n",
    "  <source src=\"{0}\">\n",
    "</video>\n",
    "\"\"\".format(yellow_output))"
   ]
  },
  {
   "cell_type": "markdown",
   "metadata": {},
   "source": [
    "## Reflections\n",
    "\n",
    "Congratulations on finding the lane lines!  As the final step in this project, we would like you to share your thoughts on your lane finding pipeline... specifically, how could you imagine making your algorithm better / more robust?  Where will your current algorithm be likely to fail?\n",
    "\n",
    "Please add your thoughts below,  and if you're up for making your pipeline more robust, be sure to scroll down and check out the optional challenge video below!\n"
   ]
  },
  {
   "cell_type": "markdown",
   "metadata": {},
   "source": [
    "There are three major weaknesses of the current implementation:\n",
    "\n",
    "1. thresholds for color filtering of the image are not fitting to all environments. \n",
    "   Even I have taken a statistic, the videos show, that its not too robust to shadows.\n",
    "   An improvement would be to use thresholds based on a statistic only for the lower image part.\n",
    "   \n",
    "2. the thresholds for the HoughLinesalgorithm are very sensitiv  to adjust. \n",
    "   If more lines are detected, an additional filter would be required to select the relevant lines that\n",
    "   reflect the lane lines. I would improve first to create lines only on the lower image part and would filter\n",
    "   out lines that dont have an range of angle. Something +- 20 degrees around 50 degrees on the left side \n",
    "   and 120 degrees on the right side.\n",
    "   \n",
    "3. The averaged lane line segments in curves result in lines that do not fit to the real lane lines. \n",
    "   Averaging should be reduced to the bottom part of the image to avoid mismatch of the curve segments \n",
    "   in the upper image area. again limiting line detection to the lower image part would help. \n",
    "   May be averaging of line segments, which not only are similar in the angle, but as well are close to each\n",
    "   other in the location would help.\n",
    "  "
   ]
  },
  {
   "cell_type": "markdown",
   "metadata": {},
   "source": [
    "## Submission\n",
    "\n",
    "If you're satisfied with your video outputs it's time to submit!  Submit this ipython notebook for review.\n"
   ]
  },
  {
   "cell_type": "markdown",
   "metadata": {
    "collapsed": true
   },
   "source": [
    "## Optional Challenge\n",
    "\n",
    "Try your lane finding pipeline on the video below.  Does it still work?  Can you figure out a way to make it more robust?  If you're up for the challenge, modify your pipeline so it works with this video and submit it along with the rest of your project!"
   ]
  },
  {
   "cell_type": "code",
   "execution_count": null,
   "metadata": {
    "collapsed": false,
    "scrolled": true
   },
   "outputs": [],
   "source": [
    "challenge_output = 'extra.mp4'\n",
    "clip2 = VideoFileClip('challenge.mp4')\n",
    "challenge_clip = clip2.fl_image(process_image)\n",
    "%time challenge_clip.write_videofile(challenge_output, audio=False)"
   ]
  },
  {
   "cell_type": "code",
   "execution_count": null,
   "metadata": {
    "collapsed": false
   },
   "outputs": [],
   "source": [
    "HTML(\"\"\"\n",
    "<video width=\"960\" height=\"540\" controls>\n",
    "  <source src=\"{0}\">\n",
    "</video>\n",
    "\"\"\".format(challenge_output))"
   ]
  },
  {
   "cell_type": "code",
   "execution_count": null,
   "metadata": {
    "collapsed": true
   },
   "outputs": [],
   "source": []
  }
 ],
 "metadata": {
  "anaconda-cloud": {},
  "kernelspec": {
   "display_name": "Python 3",
   "language": "python",
   "name": "python3"
  },
  "language_info": {
   "codemirror_mode": {
    "name": "ipython",
    "version": 3
   },
   "file_extension": ".py",
   "mimetype": "text/x-python",
   "name": "python",
   "nbconvert_exporter": "python",
   "pygments_lexer": "ipython3",
   "version": "3.5.2"
  }
 },
 "nbformat": 4,
 "nbformat_minor": 0
}
