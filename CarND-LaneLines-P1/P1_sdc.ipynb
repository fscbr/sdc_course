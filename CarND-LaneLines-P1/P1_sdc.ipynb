{
 "cells": [
  {
   "cell_type": "markdown",
   "metadata": {},
   "source": [
    "# **Finding Lane Lines on the Road** \n",
    "***\n",
    "In this project, you will use the tools you learned about in the lesson to identify lane lines on the road.  You can develop your pipeline on a series of individual images, and later apply the result to a video stream (really just a series of images). Check out the video clip \"raw-lines-example.mp4\" (also contained in this repository) to see what the output should look like after using the helper functions below. \n",
    "\n",
    "Once you have a result that looks roughly like \"raw-lines-example.mp4\", you'll need to get creative and try to average and/or extrapolate the line segments you've detected to map out the full extent of the lane lines.  You can see an example of the result you're going for in the video \"P1_example.mp4\".  Ultimately, you would like to draw just one line for the left side of the lane, and one for the right.\n",
    "\n",
    "---\n",
    "Let's have a look at our first image called 'test_images/solidWhiteRight.jpg'.  Run the 2 cells below (hit Shift-Enter or the \"play\" button above) to display the image.\n",
    "\n",
    "**Note** If, at any point, you encounter frozen display windows or other confounding issues, you can always start again with a clean slate by going to the \"Kernel\" menu above and selecting \"Restart & Clear Output\".\n",
    "\n",
    "---"
   ]
  },
  {
   "cell_type": "markdown",
   "metadata": {},
   "source": [
    "**The tools you have are color selection, region of interest selection, grayscaling, Gaussian smoothing, Canny Edge Detection and Hough Tranform line detection.  You  are also free to explore and try other techniques that were not presented in the lesson.  Your goal is piece together a pipeline to detect the line segments in the image, then average/extrapolate them and draw them onto the image for display (as below).  Once you have a working pipeline, try it out on the video stream below.**\n",
    "\n",
    "---\n",
    "\n",
    "<figure>\n",
    " <img src=\"line-segments-example.jpg\" width=\"380\" alt=\"Combined Image\" />\n",
    " <figcaption>\n",
    " <p></p> \n",
    " <p style=\"text-align: center;\"> Your output should look something like this (above) after detecting line segments using the helper functions below </p> \n",
    " </figcaption>\n",
    "</figure>\n",
    " <p></p> \n",
    "<figure>\n",
    " <img src=\"laneLines_thirdPass.jpg\" width=\"380\" alt=\"Combined Image\" />\n",
    " <figcaption>\n",
    " <p></p> \n",
    " <p style=\"text-align: center;\"> Your goal is to connect/average/extrapolate line segments to get output like this</p> \n",
    " </figcaption>\n",
    "</figure>"
   ]
  },
  {
   "cell_type": "code",
   "execution_count": null,
   "metadata": {
    "collapsed": false
   },
   "outputs": [],
   "source": [
    "#importing some useful packages\n",
    "import matplotlib.pyplot as plt\n",
    "import matplotlib.image as mpimg\n",
    "import numpy as np\n",
    "import cv2\n",
    "%matplotlib inline"
   ]
  },
  {
   "cell_type": "code",
   "execution_count": null,
   "metadata": {
    "collapsed": false
   },
   "outputs": [],
   "source": [
    "#reading in an image\n",
    "image = mpimg.imread('test_images/solidWhiteRight.jpg')\n",
    "#printing out some stats and plotting\n",
    "print('This image is:', type(image), 'with dimesions:', image.shape)\n",
    "plt.imshow(image)  #call as plt.imshow(gray, cmap='gray') to show a grayscaled image"
   ]
  },
  {
   "cell_type": "markdown",
   "metadata": {},
   "source": [
    "**Some OpenCV functions (beyond those introduced in the lesson) that might be useful for this project are:**\n",
    "\n",
    "`cv2.inRange()` for color selection  \n",
    "`cv2.fillPoly()` for regions selection  \n",
    "`cv2.line()` to draw lines on an image given endpoints  \n",
    "`cv2.addWeighted()` to coadd / overlay two images\n",
    "`cv2.cvtColor()` to grayscale or change color\n",
    "`cv2.imwrite()` to output images to file  \n",
    "`cv2.bitwise_and()` to apply a mask to an image\n",
    "\n",
    "**Check out the OpenCV documentation to learn about these and discover even more awesome functionality!**"
   ]
  },
  {
   "cell_type": "markdown",
   "metadata": {},
   "source": [
    "Below are some helper functions to help get you started. They should look familiar from the lesson!"
   ]
  },
  {
   "cell_type": "code",
   "execution_count": null,
   "metadata": {
    "collapsed": false
   },
   "outputs": [],
   "source": [
    "import math\n",
    "\n",
    "def grayscale(img):\n",
    "    \"\"\"Applies the Grayscale transform\n",
    "    This will return an image with only one color channel\n",
    "    but NOTE: to see the returned image as grayscale\n",
    "    you should call plt.imshow(gray, cmap='gray')\"\"\"\n",
    "    return cv2.cvtColor(img, cv2.COLOR_BGR2GRAY)\n",
    "    \n",
    "def canny(img, low_threshold, high_threshold):\n",
    "    \"\"\"Applies the Canny transform\"\"\"\n",
    "    return cv2.Canny(img, low_threshold, high_threshold)\n",
    "\n",
    "def gaussian_blur(img, kernel_size):\n",
    "    \"\"\"Applies a Gaussian Noise kernel\"\"\"\n",
    "    return cv2.GaussianBlur(img, (kernel_size, kernel_size), 0)\n",
    "\n",
    "def region_of_interest(img, vertices):\n",
    "    \"\"\"\n",
    "    Applies an image mask.\n",
    "    \n",
    "    Only keeps the region of the image defined by the polygon\n",
    "    formed from `vertices`. The rest of the image is set to black.\n",
    "    \"\"\"\n",
    "    #defining a blank mask to start with\n",
    "    mask = np.zeros_like(img)   \n",
    "    \n",
    "    #defining a 3 channel or 1 channel color to fill the mask with depending on the input image\n",
    "    if len(img.shape) > 2:\n",
    "        channel_count = img.shape[2]  # i.e. 3 or 4 depending on your image\n",
    "        ignore_mask_color = (255,) * channel_count\n",
    "    else:\n",
    "        ignore_mask_color = 255\n",
    "        \n",
    "    #filling pixels inside the polygon defined by \"vertices\" with the fill color    \n",
    "    cv2.fillPoly(mask, vertices, ignore_mask_color)\n",
    "    \n",
    "    #returning the image only where mask pixels are nonzero\n",
    "    masked_image = cv2.bitwise_and(img, mask)\n",
    "    return masked_image\n",
    "\n",
    "\n",
    "def draw_lines(img, lines, color=[255, 0, 0], thickness=15):\n",
    "    \"\"\"\n",
    "    NOTE: this is the function you might want to use as a starting point once you want to \n",
    "    average/extrapolate the line segments you detect to map out the full\n",
    "    extent of the lane (going from the result shown in raw-lines-example.mp4\n",
    "    to that shown in P1_example.mp4).  \n",
    "    \n",
    "    Think about things like separating line segments by their \n",
    "    slope ((y2-y1)/(x2-x1)) to decide which segments are part of the left\n",
    "    line vs. the right line.  Then, you can average the position of each of \n",
    "    the lines and extrapolate to the top and bottom of the lane.\n",
    "    \n",
    "    This function draws `lines` with `color` and `thickness`.    \n",
    "    Lines are drawn on the image inplace (mutates the image).\n",
    "    If you want to make the lines semi-transparent, think about combining\n",
    "    this function with the weighted_img() function below\n",
    "    \"\"\"\n",
    "    for line in lines:\n",
    "        for x1,y1,x2,y2 in line:\n",
    "            cv2.line(img, (x1, y1), (x2, y2), color, thickness)\n",
    "\n",
    "def hough_lines(img, rho, theta, threshold, min_line_len, max_line_gap):\n",
    "    \"\"\"\n",
    "    `img` should be the output of a Canny transform.\n",
    "        \n",
    "    Returns an image with hough lines drawn.\n",
    "    \"\"\"\n",
    "    lines = cv2.HoughLinesP(img, rho, theta, threshold, np.array([]), minLineLength=min_line_len, maxLineGap=max_line_gap)\n",
    "    line_img = np.zeros((*img.shape, 3), dtype=np.uint8)\n",
    "    draw_lines(line_img, lines)\n",
    "    return line_img\n",
    "\n",
    "# Python 3 has support for cool math symbols.\n",
    "\n",
    "def weighted_img(img, initial_img, α=0.8, β=1., λ=0.):\n",
    "    \"\"\"\n",
    "    `img` is the output of the hough_lines(), An image with lines drawn on it.\n",
    "    Should be a blank image (all black) with lines drawn on it.\n",
    "    \n",
    "    `initial_img` should be the image before any processing.\n",
    "    \n",
    "    The result image is computed as follows:\n",
    "    \n",
    "    initial_img * α + img * β + λ\n",
    "    NOTE: initial_img and img must be the same shape!\n",
    "    \"\"\"\n",
    "    return cv2.addWeighted(initial_img, α, img, β, λ)\n",
    "\n",
    "def color_select(image,threshold_r,threshold_g,threshold_b):\n",
    "# Use a \"bitwise OR\" to identify pixels below the threshold\n",
    "  thresholds = (image[:,:,0] < threshold_r) \\\n",
    "            | (image[:,:,1] < threshold_g) \\\n",
    "            | (image[:,:,2] < threshold_b)\n",
    "  filtered = image.copy()\n",
    "  filtered[thresholds] = [0,0,0]\n",
    "  return filtered\n",
    "\n",
    "\n"
   ]
  },
  {
   "cell_type": "markdown",
   "metadata": {},
   "source": [
    "## Test on Images\n",
    "\n",
    "Now you should build your pipeline to work on the images in the directory \"test_images\"  \n",
    "**You should make sure your pipeline works well on these images before you try the videos.**"
   ]
  },
  {
   "cell_type": "code",
   "execution_count": null,
   "metadata": {
    "collapsed": false
   },
   "outputs": [],
   "source": [
    "from operator import itemgetter\n",
    "\n",
    "#extract the lower center part of the image\n",
    "def filterAreaOfInterest(image):\n",
    "    maxx = image.shape[1]\n",
    "    maxy = image.shape[0]\n",
    "    y1 = int(maxy)\n",
    "    y2 = int(maxy*0.6)\n",
    "    x1 = int(maxx*0.4)\n",
    "    x2 = int(maxx*0.6)\n",
    "    x3 = int(maxx)\n",
    "    area = np.array([[0,y1],[x1,y2],[x2,y2],[x3,y1]])\n",
    "    return region_of_interest(image,[area])\n",
    "    \n",
    "#filter colors exeeding a statistical criteria\n",
    "def filterImage(image):\n",
    "  meancolors = np.mean(image,axis=(0,1))\n",
    "  sdevcolors = np.std(image,axis=(0,1))\n",
    "#threshold is mean + 1.5 std\n",
    "  thresholds = meancolors+sdevcolors*1.5 \n",
    "#to pass yellow blue threshold must be much lower\n",
    "  filtered_image = color_select(image,thresholds[0],thresholds[1],thresholds[2]*0.3)\n",
    "  return filtered_image\n",
    "\n",
    "#filter and average lines, add slope and offset\n",
    "def averageLines(lines,delta_m, delta_d):\n",
    "  av1_lines=[]\n",
    "  av2_lines=[]\n",
    "  for i in range(lines.shape[0]):\n",
    "    for x1,y1,x2,y2 in lines[i]:\n",
    "    \n",
    "      if x2 -x1 == 0:\n",
    "        continue\n",
    "        \n",
    "      #filter short lines\n",
    "      l = (x2 -x1)*(x2 -x1) + (y2 - y1)*(y2 - y1)\n",
    "      if l < 200:\n",
    "        continue\n",
    "    \n",
    "      m1 = (y2 -y1) / (x2 -x1)\n",
    "      if m1 == 0:\n",
    "        m1 = 0.0001\n",
    "        \n",
    "      b1 = y1 - x1*m1\n",
    "      # sort coordinates\n",
    "      if x2 > x1:\n",
    "        av1_lines.append((m1,b1,x1,y1,x2,y2))  \n",
    "      else:\n",
    "        av1_lines.append((m1,b1,x2,y2,x1,y1))  \n",
    "        \n",
    "  for i in range(len(av1_lines)):    \n",
    "    (m1,b1,x11,y11,x12,y12) = av1_lines[i]\n",
    "    if x11 == 0 and x12 == 0:\n",
    "      continue\n",
    "    av_lines=[]\n",
    "    av_lines.append((m1,b1,x11,y11,x12,y12))  \n",
    "\n",
    "    for j in range(len(av1_lines)-1, i, -1):\n",
    "      (m2,b2,x21,y21,x22,y22) = av1_lines[j]\n",
    "      if x21 == 0 and x22 == 0:\n",
    "        continue\n",
    "            \n",
    "# apply average conditions\n",
    "      if (abs(math.atan(m1) - math.atan(m2)) > delta_m) and (abs(b1 - b2) > delta_d):\n",
    "        continue\n",
    "        \n",
    "      av_lines.append((m2,b2,x21,y21,x22,y22))  \n",
    "# mark the line not to be used again  \n",
    "      av1_lines[j] = (0,0,0,0,0,0)\n",
    "        \n",
    "    if len(av_lines) > 1:\n",
    "#mean for slope and offset\n",
    "      av = np.mean(av_lines,axis=0)       \n",
    "#min y for end of lane coordinate, \n",
    "      avmin = np.min(av_lines,axis=0)       \n",
    "#max y for bottom line      \n",
    "      avmax = np.max(av_lines,axis=0)       \n",
    "      m = av[0]\n",
    "      if m == 0:\n",
    "        continue\n",
    "        \n",
    "      b = av[1]       \n",
    "\n",
    "      x0 = avmin[2]        \n",
    "      y0 = int(x0*m + b)      \n",
    "    \n",
    "      x1 = avmax[4]        \n",
    "      y1 = int(x1*m + b)      \n",
    "       \n",
    "      av_line = (m,b,int(x0),int(y0),int(x1),int(y1))\n",
    "      av2_lines.append(av_line)\n",
    "    else:\n",
    "      av2_lines.append(av_lines[0])    \n",
    "    \n",
    "  return av2_lines\n",
    "\n",
    "#filter and average lines again, now widen the parameters\n",
    "def averageLines2(lines,delta_m, delta_d):\n",
    "  av2_lines=[]\n",
    "  for i in range(len(lines)):\n",
    "    (m1,b1,x11,y11,x12,y12) = lines[i]\n",
    "    if x11 == 0 and x12 == 0:\n",
    "      continue\n",
    "        \n",
    "    av_lines=[]\n",
    "    av_lines.append((m1,b1,x11,y11,x12,y12))  \n",
    "    for j in range(len(lines)-1, i, -1):\n",
    "      (m2,b2,x21,y21,x22,y22) = lines[j]\n",
    "      if x21 == 0 and x22 == 0:\n",
    "        continue\n",
    "# apply average conditions\n",
    "      if (abs(math.atan(m1) - math.atan(m2)) > delta_m) and (abs(b1 - b2) > delta_d):\n",
    "        continue\n",
    "        \n",
    "      av_lines.append((m2,b2,x21,y21,x22,y22))  \n",
    "# mark the line to to be used again  \n",
    "      lines[j] = (0,0,0,0,0,0)\n",
    "        \n",
    "    if len(av_lines) > 1:\n",
    "#mean for slope and offset\n",
    "      av = np.mean(av_lines,axis=0)       \n",
    "#min y for end of lane coordinate, \n",
    "      avmin = np.min(av_lines,axis=0)       \n",
    "#max y for bottom line      \n",
    "      avmax = np.max(av_lines,axis=0)       \n",
    "\n",
    "      m = av[0]\n",
    "      if m == 0:\n",
    "        continue\n",
    "        \n",
    "      b = av[1]       \n",
    "\n",
    "      x0 = avmin[2]        \n",
    "      y0 = int(x0*m + b)      \n",
    "    \n",
    "      x1 = avmax[4]        \n",
    "      y1 = int(x1*m + b)      \n",
    "       \n",
    "      av_line = (m,b,int(x0),int(y0),int(x1),int(y1))\n",
    "      av2_lines.append(av_line)\n",
    "    else:\n",
    "      av2_lines.append(av_lines[0])    \n",
    "    \n",
    "  return av2_lines\n",
    "\n",
    "#extend a line to the bottom ( max y value)\n",
    "def extendToBotton(line, maxy):\n",
    "  (m,b,x1,y1,x2,y2) = line\n",
    "  yb = maxy\n",
    "  xb = (yb - b) / m\n",
    "  if y1 < y2:\n",
    "    return (m,b,x1,y1,int(xb),yb)\n",
    "  else:\n",
    "    return (m,b,int(xb),yb,x2,y2)\n",
    "\n",
    "      \n",
    "#select the first left and the last right and extend them  down to the bottom\n",
    "def extendLines(lines, maxy,maxx):\n",
    "  ext_lines = []\n",
    "  for i in range(len(lines)):\n",
    "#    print(lines[i])  \n",
    "    (m,b,x1,y1,x2,y2) = lines[i]\n",
    "    yb = maxy\n",
    "    xb = (yb - b) / m\n",
    "                       \n",
    "    line = (m,b,int(x1),int(y1),x2,y2)\n",
    "    ext_lines.append(line)\n",
    "\n",
    "#sort for the x at bottom and find a left and a right line close to the center\n",
    "  left_line = None\n",
    "  right_line = None\n",
    "  ls = sorted(ext_lines,key=itemgetter(2))\n",
    "    \n",
    "  for line in ls:\n",
    "    if line[0] < 0 and left_line == None:\n",
    "      left_line = line\n",
    "    if line[0] > 0:\n",
    "      right_line = line\n",
    "      break\n",
    "  \n",
    "  ext2_lines = []\n",
    "  if left_line != None:\n",
    "    ext2_lines.append(extendToBotton(left_line,maxy))\n",
    "  if right_line != None:\n",
    "    ext2_lines.append(extendToBotton(right_line,maxy))\n",
    "    \n",
    "  return ext2_lines\n",
    "  "
   ]
  },
  {
   "cell_type": "code",
   "execution_count": null,
   "metadata": {
    "collapsed": false,
    "scrolled": true
   },
   "outputs": [],
   "source": [
    "import os\n",
    "print(os.listdir(\"test_images/\"))\n",
    "\n",
    "#the process chain to draw lane lines on the road\n",
    "def process_colored_image(image):\n",
    "\n",
    "#  apply a color statistical filter\n",
    "  filtered_image = filterImage(image)\n",
    "\n",
    "# apply an area of interest\n",
    "  area_filtered_image = filterAreaOfInterest(filtered_image)\n",
    "\n",
    "# move to gray shaded\n",
    "  gray = grayscale(area_filtered_image)\n",
    "\n",
    "# define a kernel size and apply Gaussian smoothing\n",
    "  kernel_size = 9\n",
    "  blur_gray = gaussian_blur(gray,kernel_size).copy()\n",
    "\n",
    "# define our parameters for Canny and apply\n",
    "  low_threshold = 200\n",
    "  high_threshold = 255\n",
    "  edges = canny(blur_gray, low_threshold, high_threshold).copy()\n",
    "\n",
    "# define the Hough transform parameters\n",
    "  rho = 1\n",
    "  theta = np.pi/180\n",
    "  threshold = 1\n",
    "  min_line_length = 65\n",
    "  max_line_gap = 80\n",
    "\n",
    "# define parameters for avering. max difference in slope and offest intwo steps\n",
    "  delta_m1 = 0.02\n",
    "  delta_b1 = 8\n",
    "  delta_m2 = 0.2\n",
    "  delta_b2 = 20\n",
    "\n",
    "# Run Hough on edge detected image, if nothing is detected reduce line length\n",
    "  lines = cv2.HoughLinesP(edges, rho, theta, threshold, np.array([]), minLineLength=min_line_length, maxLineGap=max_line_gap)\n",
    "  factor = 1\n",
    "  while lines == None:\n",
    "    factor *= 0.9\n",
    "    lines = cv2.HoughLinesP(edges, rho, theta, threshold, np.array([]), minLineLength=min_line_length*factor, maxLineGap=max_line_gap)\n",
    "\n",
    "#tw step avering of lines    \n",
    "  lines = averageLines(lines,delta_m1,delta_b1)\n",
    "  if len(lines) > 2:\n",
    "    lines = averageLines2(lines,delta_m2,delta_b2)\n",
    "\n",
    "#extend lines and select a left and a right line\n",
    "  lines_img = np.zeros((*edges.shape, 3), dtype=np.uint8)\n",
    "  lines = extendLines(lines,lines_img.shape[0], lines_img.shape[1])\n",
    "\n",
    "#paint lines on a blank image\n",
    "  for line in lines:\n",
    "    (m,b,x1,y1,x2,y2) = line\n",
    "    cv2.line(lines_img, (x1,y1), (x2,y2), [255,0,0], 15)\n",
    "\n",
    "#merge the lines on teh orig image\n",
    "  result = weighted_img(lines_img, image)\n",
    "  return result\n",
    "\n",
    "#loop ove rthe test pictures\n",
    "for item in os.listdir(\"test_images/\"):\n",
    "  #Read in and grayscale the image\n",
    "  print(item)\n",
    "  path_to_image = os.path.join(\"test_images\",item)\n",
    "  image = mpimg.imread(path_to_image)\n",
    "  result = process_colored_image(image)\n",
    "  path_to_result = os.path.join(\"test_images\",\"result_{0}\".format(item))\n",
    "  fig = plt.gcf()\n",
    "  plt.imshow(result)\n",
    "  fig.savefig(path_to_result) \n",
    "  plt.show()\n",
    "\n"
   ]
  },
  {
   "cell_type": "markdown",
   "metadata": {},
   "source": [
    "run your solution on all test_images and make copies into the test_images directory)."
   ]
  },
  {
   "cell_type": "markdown",
   "metadata": {},
   "source": [
    "## Test on Videos\n",
    "\n",
    "You know what's cooler than drawing lanes over images? Drawing lanes over video!\n",
    "\n",
    "We can test our solution on two provided videos:\n",
    "\n",
    "`solidWhiteRight.mp4`\n",
    "\n",
    "`solidYellowLeft.mp4`"
   ]
  },
  {
   "cell_type": "code",
   "execution_count": null,
   "metadata": {
    "collapsed": true
   },
   "outputs": [],
   "source": [
    "# Import everything needed to edit/save/watch video clips\n",
    "from moviepy.editor import VideoFileClip\n",
    "from IPython.display import HTML"
   ]
  },
  {
   "cell_type": "code",
   "execution_count": null,
   "metadata": {
    "collapsed": true
   },
   "outputs": [],
   "source": [
    "def process_image(image):\n",
    "    # NOTE: The output you return should be a color image (3 channel) for processing video below\n",
    "    # TODO: put your pipeline here,\n",
    "    # you should return the final output (image with lines are drawn on lanes)\n",
    "    \n",
    "\n",
    "    return process_colored_image(image)"
   ]
  },
  {
   "cell_type": "markdown",
   "metadata": {},
   "source": [
    "Let's try the one with the solid white lane on the right first ..."
   ]
  },
  {
   "cell_type": "code",
   "execution_count": null,
   "metadata": {
    "collapsed": false,
    "scrolled": false
   },
   "outputs": [],
   "source": [
    "white_output = 'white.mp4'\n",
    "clip1 = VideoFileClip(\"solidWhiteRight.mp4\")\n",
    "white_clip = clip1.fl_image(process_image) #NOTE: this function expects color images!!\n",
    "%time white_clip.write_videofile(white_output, audio=False)"
   ]
  },
  {
   "cell_type": "markdown",
   "metadata": {},
   "source": [
    "Play the video inline, or if you prefer find the video in your filesystem (should be in the same directory) and play it in your video player of choice."
   ]
  },
  {
   "cell_type": "code",
   "execution_count": null,
   "metadata": {
    "collapsed": false,
    "scrolled": true
   },
   "outputs": [],
   "source": [
    "HTML(\"\"\"\n",
    "<video width=\"960\" height=\"540\" controls>\n",
    "  <source src=\"{0}\">\n",
    "</video>\n",
    "\"\"\".format(white_output))"
   ]
  },
  {
   "cell_type": "markdown",
   "metadata": {},
   "source": [
    "**At this point, if you were successful you probably have the Hough line segments drawn onto the road, but what about identifying the full extent of the lane and marking it clearly as in the example video (P1_example.mp4)?  Think about defining a line to run the full length of the visible lane based on the line segments you identified with the Hough Transform.  Modify your draw_lines function accordingly and try re-running your pipeline.**"
   ]
  },
  {
   "cell_type": "markdown",
   "metadata": {},
   "source": [
    "Now for the one with the solid yellow lane on the left. This one's more tricky!"
   ]
  },
  {
   "cell_type": "code",
   "execution_count": null,
   "metadata": {
    "collapsed": false,
    "scrolled": true
   },
   "outputs": [],
   "source": [
    "HTML(\"\"\"\n",
    "<video width=\"960\" height=\"540\" controls>\n",
    "  <source src=\"{0}\">\n",
    "</video>\n",
    "\"\"\".format(\"P1_example.mp4\"))"
   ]
  },
  {
   "cell_type": "code",
   "execution_count": null,
   "metadata": {
    "collapsed": false,
    "scrolled": true
   },
   "outputs": [],
   "source": [
    "yellow_output = 'yellow.mp4'\n",
    "clip2 = VideoFileClip('solidYellowLeft.mp4')\n",
    "yellow_clip = clip2.fl_image(process_image)\n",
    "%time yellow_clip.write_videofile(yellow_output, audio=False)"
   ]
  },
  {
   "cell_type": "code",
   "execution_count": null,
   "metadata": {
    "collapsed": false,
    "scrolled": true
   },
   "outputs": [],
   "source": [
    "HTML(\"\"\"\n",
    "<video width=\"960\" height=\"540\" controls>\n",
    "  <source src=\"{0}\">\n",
    "</video>\n",
    "\"\"\".format(yellow_output))"
   ]
  },
  {
   "cell_type": "markdown",
   "metadata": {},
   "source": [
    "## Reflections\n",
    "\n",
    "Congratulations on finding the lane lines!  As the final step in this project, we would like you to share your thoughts on your lane finding pipeline... specifically, how could you imagine making your algorithm better / more robust?  Where will your current algorithm be likely to fail?\n",
    "\n",
    "Please add your thoughts below,  and if you're up for making your pipeline more robust, be sure to scroll down and check out the optional challenge video below!\n"
   ]
  },
  {
   "cell_type": "markdown",
   "metadata": {},
   "source": [
    "There are three major weaknesses of the current implementation:\n",
    "\n",
    "1. thresholds for color filtering of the image are not fitting to all environments. \n",
    "   Even I have taken a statistic, the challange video shows, that its not too robust to shadows.\n",
    "   An improvement would statistic based on horizontal cuts in the lower area to identify color\n",
    "   distribution in the relevant area.\n",
    "   \n",
    "2. the thresholds for the HoughLines algorithm are very sensitiv to adjust. \n",
    "   If more lines are detected, an additional filter would be required to select the relevant\n",
    "   lines that reflect the lane lines. I would improve first to create lines only on the lower\n",
    "   image part and would filter out lines that dont have an range of angle. Something +- 20\n",
    "   degrees around 50 degrees on the left side and 120 degrees on the right side.\n",
    "   For the challenge I tried a recursive approach to relax parameters, if line detection shows \n",
    "   bad results. a more sophisticated design would clearly improve.\n",
    "   \n",
    "3. The averaged lane line segments in curves result in lines that do not fit to the real lane\n",
    "   lines. Averaging is as well very sensitiv. Either lines are averaged, which do not belonge\n",
    "   together or averaging excludes neihbors. As well a more dynamic fit of the thresholds could\n",
    "   help.\n",
    "  "
   ]
  },
  {
   "cell_type": "markdown",
   "metadata": {},
   "source": [
    "## Submission\n",
    "\n",
    "If you're satisfied with your video outputs it's time to submit!  Submit this ipython notebook for review.\n"
   ]
  },
  {
   "cell_type": "markdown",
   "metadata": {
    "collapsed": true
   },
   "source": [
    "## Optional Challenge\n",
    "\n",
    "Try your lane finding pipeline on the video below.  Does it still work?  Can you figure out a way to make it more robust?  If you're up for the challenge, modify your pipeline so it works with this video and submit it along with the rest of your project!"
   ]
  },
  {
   "cell_type": "code",
   "execution_count": null,
   "metadata": {
    "collapsed": false,
    "scrolled": true
   },
   "outputs": [],
   "source": [
    "challenge_output = 'extra.mp4'\n",
    "clip2 = VideoFileClip('challenge.mp4')\n",
    "challenge_clip = clip2.fl_image(process_image)\n",
    "%time challenge_clip.write_videofile(challenge_output, audio=False)"
   ]
  },
  {
   "cell_type": "code",
   "execution_count": null,
   "metadata": {
    "collapsed": false
   },
   "outputs": [],
   "source": [
    "HTML(\"\"\"\n",
    "<video width=\"960\" height=\"540\" controls>\n",
    "  <source src=\"{0}\">\n",
    "</video>\n",
    "\"\"\".format(challenge_output))"
   ]
  },
  {
   "cell_type": "code",
   "execution_count": null,
   "metadata": {
    "collapsed": true
   },
   "outputs": [],
   "source": []
  },
  {
   "cell_type": "code",
   "execution_count": null,
   "metadata": {
    "collapsed": true
   },
   "outputs": [],
   "source": []
  }
 ],
 "metadata": {
  "anaconda-cloud": {},
  "kernelspec": {
   "display_name": "Python 3",
   "language": "python",
   "name": "python3"
  },
  "language_info": {
   "codemirror_mode": {
    "name": "ipython",
    "version": 3
   },
   "file_extension": ".py",
   "mimetype": "text/x-python",
   "name": "python",
   "nbconvert_exporter": "python",
   "pygments_lexer": "ipython3",
   "version": "3.5.2"
  }
 },
 "nbformat": 4,
 "nbformat_minor": 0
}
